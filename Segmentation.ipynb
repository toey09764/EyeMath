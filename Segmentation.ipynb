{
 "cells": [
  {
   "cell_type": "code",
   "execution_count": 57,
   "metadata": {},
   "outputs": [],
   "source": [
    "import cv2\n",
    "import numpy as np\n",
    "from matplotlib import pyplot as plt\n",
    "from PIL import Image\n",
    "import sys\n",
    "import base64\n",
    "import requests\n",
    "import json\n",
    "import os\n",
    "import io"
   ]
  },
  {
   "cell_type": "code",
   "execution_count": 58,
   "metadata": {},
   "outputs": [],
   "source": [
    "img1 = cv2.imread('ex4.PNG',0)\n",
    "img2 = cv2.imread('0.jpg',0)\n",
    "img3 = cv2.imread('1.jpg',0)\n",
    "img4 = cv2.imread('2.jpg',0)"
   ]
  },
  {
   "cell_type": "code",
   "execution_count": 59,
   "metadata": {},
   "outputs": [],
   "source": [
    "def split_Horizontal (value):\n",
    "    value = 255-value\n",
    "    previous = False\n",
    "    spacelist = []\n",
    "    cnt =0\n",
    "    for i in value:\n",
    "        sumar = sum(i)\n",
    "        if(sumar!=0):\n",
    "            spacelist.append(cnt)\n",
    "            previous = True\n",
    "        if((sumar==0)and(previous)):\n",
    "            spacelist.append('--')\n",
    "            previous = False\n",
    "        cnt+=1\n",
    "    #print(spacelist)\n",
    "    spaceliststr = [str(i) for i in spacelist]\n",
    "    smallerlist = [l.split(',')  for l in ','.join(spaceliststr).split('--')]\n",
    "    #print(smallerlist)\n",
    "    section = []\n",
    "    for i in smallerlist:\n",
    "        inm = i\n",
    "        inm = list(filter(None, inm))\n",
    "        inm = list(map(int, inm))\n",
    "        if inm:\n",
    "            section.append(inm)\n",
    "    \n",
    "    cnt = 0\n",
    "    result_Hor = []\n",
    "    for i in section :\n",
    "        croped = value[i[0]:i[-1],:]\n",
    "        result_Hor.append(croped)\n",
    "        cv2.imshow('croped',croped)\n",
    "        cv2.waitKey(0)\n",
    "        cv2.imwrite(\"C:/Users/LEGION/Desktop/PJ/%s.JPG\"%(str(cnt)), croped)\n",
    "        cnt +=1\n",
    "        \n",
    "    return result_Hor\n",
    "    "
   ]
  },
  {
   "cell_type": "code",
   "execution_count": 60,
   "metadata": {},
   "outputs": [],
   "source": [
    "def split_Vertical(result_Hor):\n",
    "    previous = False\n",
    "    spacelist = []\n",
    "    space = []\n",
    "    cnt =0\n",
    "    ct=0\n",
    "    zerocnt = 0\n",
    "    for i in result_Hor:\n",
    "        for pix in zip(*i):\n",
    "            sumar = sum(pix)\n",
    "            if(sumar!=0):\n",
    "                space.append(cnt)\n",
    "                previous = True\n",
    "                zerocnt = 0\n",
    "            if((sumar==0) and (previous == True)):\n",
    "                zerocnt+=1\n",
    "                if((zerocnt>12)):\n",
    "                    zerocnt = 0\n",
    "                    space.append('--')\n",
    "                    previous = False\n",
    "            \n",
    "            cnt+=1\n",
    "        \n",
    "        spacelist.append(space)\n",
    "        #print(space)\n",
    "        space = []\n",
    "        previous = False\n",
    "        cnt =0\n",
    "        #print(\"********************\")\n",
    "#####################################################################################    \n",
    "    spaceliststr=[]\n",
    "    spacestr=[]\n",
    "    for i in spacelist:\n",
    "        spacestr = [str(j) for j in i]\n",
    "        spaceliststr.append(spacestr)\n",
    "\n",
    "    smaller =[]\n",
    "    smallerlist=[]\n",
    "    for i in  spaceliststr:\n",
    "        smaller = [l.split(',')  for l in ','.join(i).split('--')]\n",
    "        smallerlist.append(smaller)\n",
    "    \n",
    "     \n",
    "\n",
    "    section = []\n",
    "    toey=[]\n",
    "    for i in smallerlist:\n",
    "        for j in i:\n",
    "            inm = j\n",
    "            inm = list(filter(None, inm))\n",
    "            inm = list(map(int, inm))\n",
    "            if inm:          \n",
    "                toey.append(inm)\n",
    "        section.append(toey)\n",
    "        toey=[]\n",
    "    \n",
    "    #print(len(section[0]))\n",
    "    #print(section[0])\n",
    "\n",
    "########################################################################################\n",
    "    num = 0\n",
    "    num1 = 0 \n",
    "    name=\"\"\n",
    "    result = []\n",
    "    result_Ver = []\n",
    "    for i in section :\n",
    "        for j in i:\n",
    "            name = \"pic_\" + str(num) +str(num1)\n",
    "            croped = result_Hor[num][:,j[0]:j[-1]]\n",
    "            result.append(croped)\n",
    "            cv2.imwrite(\"C:/Users/LEGION/Desktop/PJ/pictures/%s.JPG\"%(name), croped)\n",
    "            cv2.imshow('croped',croped)\n",
    "            cv2.waitKey(0)\n",
    "            num1 +=1\n",
    "            #print(name)\n",
    "        num +=1\n",
    "        num1=0\n",
    "        result_Ver.append(result)\n",
    "        result =[]\n",
    "    \n",
    "    return result_Ver \n"
   ]
  },
  {
   "cell_type": "code",
   "execution_count": 61,
   "metadata": {},
   "outputs": [],
   "source": [
    "def merge_Image(result_Ver):\n",
    "    \n",
    "    cnt1=0\n",
    "    cnt2=0\n",
    "    previous = False\n",
    "    list_merge = []\n",
    "    name =\"\"\n",
    "    \n",
    "    for i in result_Ver :\n",
    "        for j in i:\n",
    "            name = \"merge_\" + str(cnt1) +str(cnt2)\n",
    "            if(check_Image(result_Ver[cnt1][cnt2])):\n",
    "                list_merge.append(result_Ver[cnt1][cnt2])\n",
    "                print(\"Yes\")\n",
    "                previous = True\n",
    "                #if(cnt2 < len(result_Ver[cnt1])-1):\n",
    "                    #if(check_Image(result_Ver[cnt1][cnt2+1]) == False):\n",
    "                        #list_merge = []\n",
    "                        #previous = False\n",
    "                #elif(cnt2 == len(result_Ver[cnt1])-1):\n",
    "                    #if((check_Image(result_Ver[cnt1][cnt2])!= False)  and  (check_Image(result_Ver[cnt1][cnt2-1])!= False) ):\n",
    "                        #vis = np.concatenate((list_merge), axis=1)\n",
    "                        #cv2.imwrite(\"C:/Users/LEGION/Desktop/PJ/pictures/%s.JPG\"%(name), vis)\n",
    "                        \n",
    "                        \n",
    "                \n",
    "            elif((check_Image(result_Ver[cnt1][cnt2]) == False) and (previous)):\n",
    "                if(len(list_merge)>1):\n",
    "                    vis = np.concatenate((list_merge), axis=1)\n",
    "                    cv2.imwrite(\"C:/Users/LEGION/Desktop/PJ/pictures/%s.JPG\"%(name), vis)\n",
    "                else:\n",
    "                    cv2.imwrite(\"C:/Users/LEGION/Desktop/PJ/pictures/%s.JPG\"%(name), list_merge[0])\n",
    "                    \n",
    "                print(\"No\")\n",
    "                previous = False\n",
    "                list_merge = []\n",
    "                \n",
    "            cnt2 +=1\n",
    "                \n",
    "                \n",
    "                \n",
    "        cnt1 +=1\n",
    "        cnt2 = 0\n",
    "        \n",
    "        \n",
    "            \n"
   ]
  },
  {
   "cell_type": "code",
   "execution_count": 62,
   "metadata": {},
   "outputs": [],
   "source": [
    "def check_Image(img):\n",
    "  \n",
    "    new_im = Image.fromarray(img)\n",
    "    imgByteArr = io.BytesIO()\n",
    "    new_im.save(imgByteArr, format='PNG')\n",
    "    imgByteArr = imgByteArr.getvalue()\n",
    "    #file_path = img\n",
    "    #image_uri = \"data:image/jpg;base64,\" + base64.b64encode(open(file_path, \"rb\").read()).decode()\n",
    "    image_uri = \"data:image/jpg;base64,\" + base64.b64encode(imgByteArr).decode()\n",
    "    r = requests.post(\"https://api.mathpix.com/v3/latex\",\n",
    "    data=json.dumps({'src': image_uri}),\n",
    "    headers={\"app_id\": \"toey09764_gmail_com\", \"app_key\": \"fea164a387d4e3471bb6\",\n",
    "            \"Content-type\": \"application/json\"})\n",
    "    res = json.dumps(json.loads(r.text), indent=4, sort_keys=True)\n",
    "    result = json.loads(res)\n",
    "    print(result['latex'])\n",
    "    print(\"---------------------------------------\")\n",
    "    if(result['latex'] != \"\"):\n",
    "        return True\n",
    "    else:\n",
    "        return False\n",
    "    #return result['latex']\n",
    "    "
   ]
  },
  {
   "cell_type": "code",
   "execution_count": 63,
   "metadata": {},
   "outputs": [
    {
     "data": {
      "text/plain": [
       "-1"
      ]
     },
     "execution_count": 63,
     "metadata": {},
     "output_type": "execute_result"
    }
   ],
   "source": [
    "a = split_Horizontal(img1)\n",
    "\n",
    "cv2.waitKey(0)"
   ]
  },
  {
   "cell_type": "code",
   "execution_count": 64,
   "metadata": {
    "scrolled": false
   },
   "outputs": [],
   "source": [
    "b = split_Vertical(a)"
   ]
  },
  {
   "cell_type": "code",
   "execution_count": 65,
   "metadata": {},
   "outputs": [
    {
     "name": "stdout",
     "output_type": "stream",
     "text": [
      "\\frac { 4 } { 5 }\n",
      "---------------------------------------\n",
      "Yes\n",
      "\n",
      "---------------------------------------\n",
      "\n",
      "---------------------------------------\n",
      "No\n",
      "\\frac { 4 \\times 4 } { 5 \\times 4 }\n",
      "---------------------------------------\n",
      "Yes\n",
      "\n",
      "---------------------------------------\n",
      "\n",
      "---------------------------------------\n",
      "No\n",
      "\\frac { 16 } { 20 }\n",
      "---------------------------------------\n",
      "Yes\n",
      "\\frac { 4 } { 5 }\n",
      "---------------------------------------\n",
      "Yes\n",
      "\n",
      "---------------------------------------\n",
      "\n",
      "---------------------------------------\n"
     ]
    },
    {
     "ename": "ValueError",
     "evalue": "all the input array dimensions except for the concatenation axis must match exactly",
     "output_type": "error",
     "traceback": [
      "\u001b[1;31m---------------------------------------------------------------------------\u001b[0m",
      "\u001b[1;31mValueError\u001b[0m                                Traceback (most recent call last)",
      "\u001b[1;32m<ipython-input-65-5fa5353d3ac3>\u001b[0m in \u001b[0;36m<module>\u001b[1;34m()\u001b[0m\n\u001b[1;32m----> 1\u001b[1;33m \u001b[0mmerge_Image\u001b[0m\u001b[1;33m(\u001b[0m\u001b[0mb\u001b[0m\u001b[1;33m)\u001b[0m\u001b[1;33m\u001b[0m\u001b[0m\n\u001b[0m",
      "\u001b[1;32m<ipython-input-61-00e51d05473d>\u001b[0m in \u001b[0;36mmerge_Image\u001b[1;34m(result_Ver)\u001b[0m\n\u001b[0;32m     27\u001b[0m             \u001b[1;32melif\u001b[0m\u001b[1;33m(\u001b[0m\u001b[1;33m(\u001b[0m\u001b[0mcheck_Image\u001b[0m\u001b[1;33m(\u001b[0m\u001b[0mresult_Ver\u001b[0m\u001b[1;33m[\u001b[0m\u001b[0mcnt1\u001b[0m\u001b[1;33m]\u001b[0m\u001b[1;33m[\u001b[0m\u001b[0mcnt2\u001b[0m\u001b[1;33m]\u001b[0m\u001b[1;33m)\u001b[0m \u001b[1;33m==\u001b[0m \u001b[1;32mFalse\u001b[0m\u001b[1;33m)\u001b[0m \u001b[1;32mand\u001b[0m \u001b[1;33m(\u001b[0m\u001b[0mprevious\u001b[0m\u001b[1;33m)\u001b[0m\u001b[1;33m)\u001b[0m\u001b[1;33m:\u001b[0m\u001b[1;33m\u001b[0m\u001b[0m\n\u001b[0;32m     28\u001b[0m                 \u001b[1;32mif\u001b[0m\u001b[1;33m(\u001b[0m\u001b[0mlen\u001b[0m\u001b[1;33m(\u001b[0m\u001b[0mlist_merge\u001b[0m\u001b[1;33m)\u001b[0m\u001b[1;33m>\u001b[0m\u001b[1;36m1\u001b[0m\u001b[1;33m)\u001b[0m\u001b[1;33m:\u001b[0m\u001b[1;33m\u001b[0m\u001b[0m\n\u001b[1;32m---> 29\u001b[1;33m                     \u001b[0mvis\u001b[0m \u001b[1;33m=\u001b[0m \u001b[0mnp\u001b[0m\u001b[1;33m.\u001b[0m\u001b[0mconcatenate\u001b[0m\u001b[1;33m(\u001b[0m\u001b[1;33m(\u001b[0m\u001b[0mlist_merge\u001b[0m\u001b[1;33m)\u001b[0m\u001b[1;33m,\u001b[0m \u001b[0maxis\u001b[0m\u001b[1;33m=\u001b[0m\u001b[1;36m1\u001b[0m\u001b[1;33m)\u001b[0m\u001b[1;33m\u001b[0m\u001b[0m\n\u001b[0m\u001b[0;32m     30\u001b[0m                     \u001b[0mcv2\u001b[0m\u001b[1;33m.\u001b[0m\u001b[0mimwrite\u001b[0m\u001b[1;33m(\u001b[0m\u001b[1;34m\"C:/Users/LEGION/Desktop/PJ/pictures/%s.JPG\"\u001b[0m\u001b[1;33m%\u001b[0m\u001b[1;33m(\u001b[0m\u001b[0mname\u001b[0m\u001b[1;33m)\u001b[0m\u001b[1;33m,\u001b[0m \u001b[0mvis\u001b[0m\u001b[1;33m)\u001b[0m\u001b[1;33m\u001b[0m\u001b[0m\n\u001b[0;32m     31\u001b[0m                 \u001b[1;32melse\u001b[0m\u001b[1;33m:\u001b[0m\u001b[1;33m\u001b[0m\u001b[0m\n",
      "\u001b[1;31mValueError\u001b[0m: all the input array dimensions except for the concatenation axis must match exactly"
     ]
    }
   ],
   "source": [
    "merge_Image(b)"
   ]
  },
  {
   "cell_type": "code",
   "execution_count": 31,
   "metadata": {},
   "outputs": [
    {
     "data": {
      "text/plain": [
       "True"
      ]
     },
     "execution_count": 31,
     "metadata": {},
     "output_type": "execute_result"
    }
   ],
   "source": [
    "img2  = cv2.imread('pic_20.jpg',0)\n",
    "img3 = cv2.imread('pic_21.jpg',0)\n",
    "img4 = cv2.imread('pic_22.jpg',0)\n",
    "lists =[]\n",
    "lists.append(img2)\n",
    "lists.append(img3)\n",
    "lists.append(img4)\n",
    "aa\n",
    "vis = np.concatenate((lists), axis=1)\n",
    "cv2.imwrite('out.png', vis)"
   ]
  },
  {
   "cell_type": "code",
   "execution_count": 44,
   "metadata": {},
   "outputs": [
    {
     "name": "stdout",
     "output_type": "stream",
     "text": [
      "\n",
      "---------------------------------------\n",
      "False\n"
     ]
    }
   ],
   "source": [
    "img4 = \"pictures/pic_03.jpg\"\n",
    "print(check_Image(img4))"
   ]
  },
  {
   "cell_type": "code",
   "execution_count": 86,
   "metadata": {},
   "outputs": [
    {
     "name": "stdout",
     "output_type": "stream",
     "text": [
      "---------------------------------------\n",
      "False\n",
      "---------------------------------------\n",
      "True\n",
      "---------------------------------------\n",
      "True\n",
      "---------------------------------------\n",
      "True\n",
      "---------------------------------------\n",
      "True\n",
      "---------------------------------------\n",
      "True\n",
      "---------------------------------------\n",
      "True\n",
      "---------------------------------------\n",
      "True\n",
      "---------------------------------------\n",
      "True\n",
      "---------------------------------------\n",
      "False\n",
      "---------------------------------------\n",
      "True\n",
      "---------------------------------------\n",
      "False\n",
      "---------------------------------------\n",
      "True\n",
      "---------------------------------------\n",
      "True\n",
      "---------------------------------------\n",
      "False\n",
      "---------------------------------------\n",
      "True\n",
      "---------------------------------------\n",
      "True\n",
      "---------------------------------------\n",
      "False\n",
      "---------------------------------------\n",
      "False\n",
      "---------------------------------------\n",
      "False\n",
      "---------------------------------------\n",
      "True\n"
     ]
    }
   ],
   "source": [
    "cnt1=0\n",
    "cnt2=0\n",
    "\n",
    "for i in b:\n",
    "    for j in i:\n",
    "        print(check_Image(b[cnt1][cnt2]))\n",
    "        cnt2+=1\n",
    "    cnt1+=1\n",
    "    cnt2=0\n",
    "        "
   ]
  },
  {
   "cell_type": "code",
   "execution_count": 83,
   "metadata": {},
   "outputs": [],
   "source": [
    "cnt1=0\n",
    "cnt2=0\n",
    "\n",
    "for i in b:\n",
    "    for j in i:\n",
    "        cv2.imshow('croped',b[cnt1][cnt2])\n",
    "        cv2.waitKey(0)\n",
    "        cnt2+=1\n",
    "    cnt1+=1\n",
    "    cnt2=0"
   ]
  },
  {
   "cell_type": "code",
   "execution_count": 11,
   "metadata": {},
   "outputs": [
    {
     "name": "stdout",
     "output_type": "stream",
     "text": [
      "\n",
      "---------------------------------------\n",
      "False\n"
     ]
    }
   ],
   "source": [
    "print(check_Image(b[2][1]))"
   ]
  },
  {
   "cell_type": "code",
   "execution_count": 53,
   "metadata": {},
   "outputs": [
    {
     "name": "stdout",
     "output_type": "stream",
     "text": [
      "[1, 2, 3]\n"
     ]
    }
   ],
   "source": [
    "lista =[1,2,3]\n",
    "print(lista)"
   ]
  },
  {
   "cell_type": "code",
   "execution_count": null,
   "metadata": {},
   "outputs": [],
   "source": []
  }
 ],
 "metadata": {
  "kernelspec": {
   "display_name": "Python 3",
   "language": "python",
   "name": "python3"
  },
  "language_info": {
   "codemirror_mode": {
    "name": "ipython",
    "version": 3
   },
   "file_extension": ".py",
   "mimetype": "text/x-python",
   "name": "python",
   "nbconvert_exporter": "python",
   "pygments_lexer": "ipython3",
   "version": "3.7.0"
  }
 },
 "nbformat": 4,
 "nbformat_minor": 2
}
